{
 "cells": [
  {
   "cell_type": "markdown",
   "metadata": {},
   "source": [
    "# <center>Recommendation Engine by PySpark </center>\n",
    "<center> Xinyi Bian</center>"
   ]
  },
  {
   "cell_type": "markdown",
   "metadata": {},
   "source": [
    "# PART I: Intro\n",
    "## Two types of recommendation engines\n",
    "1. Content-Based Filtering: Based on features of items\n",
    "2. Collaborative Filtering: Based on similar user preferences\n",
    "\n",
    "## Two types of ratings\n",
    "1. Explicit ratings\n",
    "2. Implicit ratings\n",
    "\n",
    "## Latent features\n",
    "Features that are contained in data, but aren't directly observable\n",
    "\n",
    "## Matrix factorization\n",
    "1. ALS\n",
    "2. SVD\n",
    "3. SGD\n",
    "\n",
    "## Rank of Factor Matrices\n",
    "Number of Latent Features"
   ]
  },
  {
   "cell_type": "markdown",
   "metadata": {},
   "source": [
    "# PART II: Data preparation for Spark ALS"
   ]
  },
  {
   "cell_type": "code",
   "execution_count": null,
   "metadata": {},
   "outputs": [],
   "source": [
    "# Import monotonically_increasing_id and show R\n",
    "from pyspark.sql.functions import monotonically_increasing_id\n",
    "R.show()"
   ]
  },
  {
   "cell_type": "markdown",
   "metadata": {},
   "source": [
    "    +----------------+-----+----+----------+--------+\n",
    "    |            User|Shrek|Coco|Swing Kids|Sneakers|\n",
    "    +----------------+-----+----+----------+--------+\n",
    "    |    James Alking|    3|   4|         4|       3|\n",
    "    |Elvira Marroquin|    4|   5|      null|       2|\n",
    "    |      Jack Bauer| null|   2|         2|       5|\n",
    "    |     Julia James|    5|null|         2|       2|\n",
    "    +----------------+-----+----+----------+--------+"
   ]
  },
  {
   "cell_type": "code",
   "execution_count": null,
   "metadata": {},
   "outputs": [],
   "source": [
    "# Use the to_long() function to convert the dataframe to the \"long\" format.\n",
    "ratings = to_long(R)\n",
    "ratings.show()"
   ]
  },
  {
   "cell_type": "markdown",
   "metadata": {},
   "source": [
    "    +----------------+----------+------+\n",
    "    |            User|     Movie|Rating|\n",
    "    +----------------+----------+------+\n",
    "    |    James Alking|     Shrek|     3|\n",
    "    |    James Alking|      Coco|     4|\n",
    "    |    James Alking|Swing Kids|     4|\n",
    "    |    James Alking|  Sneakers|     3|\n",
    "    |Elvira Marroquin|     Shrek|     4|\n",
    "    |Elvira Marroquin|      Coco|     5|\n",
    "    |Elvira Marroquin|  Sneakers|     2|\n",
    "    |      Jack Bauer|      Coco|     2|\n",
    "    |      Jack Bauer|Swing Kids|     2|\n",
    "    |      Jack Bauer|  Sneakers|     5|\n",
    "    |     Julia James|     Shrek|     5|\n",
    "    |     Julia James|Swing Kids|     2|\n",
    "    |     Julia James|  Sneakers|     2|\n",
    "    +----------------+----------+------+"
   ]
  },
  {
   "cell_type": "code",
   "execution_count": null,
   "metadata": {},
   "outputs": [],
   "source": [
    "# Get unique users and repartition to 1 partition\n",
    "users = ratings.select(\"User\").distinct().coalesce(1)\n",
    "\n",
    "# Create a new column of unique integers called \"userId\" in the users dataframe.\n",
    "users = users.withColumn(\"userId\", monotonically_increasing_id()).persist()\n",
    "users.show()"
   ]
  },
  {
   "cell_type": "markdown",
   "metadata": {},
   "source": [
    "    +----------------+------+\n",
    "    |            User|userId|\n",
    "    +----------------+------+\n",
    "    |Elvira Marroquin|     0|\n",
    "    |      Jack Bauer|     1|\n",
    "    |    James Alking|     2|\n",
    "    |     Julia James|     3|\n",
    "    +----------------+------+"
   ]
  },
  {
   "cell_type": "code",
   "execution_count": null,
   "metadata": {},
   "outputs": [],
   "source": [
    "# Extract the distinct movie id's\n",
    "movies = ratings.select(\"Movie\").distinct() \n",
    "\n",
    "# Repartition the data to have only one partition.\n",
    "movies = movies.coalesce(1) \n",
    "\n",
    "# Create a new column of movieId integers. \n",
    "movies = movies.withColumn(\"movieId\", monotonically_increasing_id()).persist() \n",
    "\n",
    "# Join the ratings, users and movies dataframes\n",
    "movie_ratings = ratings.join(users, \"User\", \"left\").join(movies, \"Movie\", \"left\")\n",
    "movie_ratings.show()"
   ]
  },
  {
   "cell_type": "markdown",
   "metadata": {},
   "source": [
    "    +----------+----------------+------+------+-------+\n",
    "    |     Movie|            User|Rating|userId|movieId|\n",
    "    +----------+----------------+------+------+-------+\n",
    "    |     Shrek|    James Alking|     3|     2|      3|\n",
    "    |      Coco|    James Alking|     4|     2|      1|\n",
    "    |Swing Kids|    James Alking|     4|     2|      2|\n",
    "    |  Sneakers|    James Alking|     3|     2|      0|\n",
    "    |     Shrek|Elvira Marroquin|     4|     0|      3|\n",
    "    |      Coco|Elvira Marroquin|     5|     0|      1|\n",
    "    |  Sneakers|Elvira Marroquin|     2|     0|      0|\n",
    "    |      Coco|      Jack Bauer|     2|     1|      1|\n",
    "    |Swing Kids|      Jack Bauer|     2|     1|      2|\n",
    "    |  Sneakers|      Jack Bauer|     5|     1|      0|\n",
    "    |     Shrek|     Julia James|     5|     3|      3|\n",
    "    |Swing Kids|     Julia James|     2|     3|      2|\n",
    "    |  Sneakers|     Julia James|     2|     3|      0|\n",
    "    +----------+----------------+------+------+-------+"
   ]
  },
  {
   "cell_type": "markdown",
   "metadata": {},
   "source": [
    "# PART III: MovieLens Data"
   ]
  },
  {
   "cell_type": "code",
   "execution_count": null,
   "metadata": {},
   "outputs": [],
   "source": [
    "from pyspark.sql import SparkSession\n",
    "spark = SparkSession.builder.appName('Recommendations').getOrCreate()\n",
    "movies = spark.read.csv(\"Downloads/ml-latest-small/movies.csv\",header=True)\n",
    "ratings = spark.read.csv(\"Downloads/ml-latest-small/ratings.csv\",header=True)\n",
    "print(ratings.columns)\n",
    "ratings.show()"
   ]
  },
  {
   "cell_type": "markdown",
   "metadata": {},
   "source": [
    "    ['userId', 'movieId', 'rating', 'timestamp']\n",
    "    +------+-------+------+----------+\n",
    "    |userId|movieId|rating| timestamp|\n",
    "    +------+-------+------+----------+\n",
    "    |     1|     31|   2.5|1260759144|\n",
    "    |     1|   1029|   3.0|1260759179|\n",
    "    |     1|   1061|   3.0|1260759182|\n",
    "    |     1|   1129|   2.0|1260759185|\n",
    "    |     1|   1172|   4.0|1260759205|\n",
    "    |     1|   1263|   2.0|1260759151|\n",
    "    |     1|   1287|   2.0|1260759187|\n",
    "    |     1|   1293|   2.0|1260759148|\n",
    "    |     1|   1339|   3.5|1260759125|\n",
    "    |     1|   1343|   2.0|1260759131|\n",
    "    |     1|   1371|   2.5|1260759135|\n",
    "    |     1|   1405|   1.0|1260759203|\n",
    "    |     1|   1953|   4.0|1260759191|\n",
    "    |     1|   2105|   4.0|1260759139|\n",
    "    |     1|   2150|   3.0|1260759194|\n",
    "    |     1|   2193|   2.0|1260759198|\n",
    "    |     1|   2294|   2.0|1260759108|\n",
    "    |     1|   2455|   2.5|1260759113|\n",
    "    |     1|   2968|   1.0|1260759200|\n",
    "    |     1|   3671|   3.0|1260759117|\n",
    "    +------+-------+------+----------+\n",
    "    only showing top 20 rows"
   ]
  },
  {
   "cell_type": "markdown",
   "metadata": {},
   "source": [
    "## Calculate sparsity\n",
    "Let's see how much of the `ratings` matrix is actually empty."
   ]
  },
  {
   "cell_type": "code",
   "execution_count": null,
   "metadata": {},
   "outputs": [],
   "source": [
    "# Count the total number of ratings in the dataset\n",
    "numerator = ratings.select(\"rating\").count()\n",
    "\n",
    "# Count the number of distinct userIds and distinct movieIds\n",
    "num_users = ratings.select(\"userId\").distinct().count()\n",
    "num_movies = ratings.select(\"movieId\").distinct().count()\n",
    "\n",
    "# Set the denominator equal to the number of users multiplied by the number of movies\n",
    "denominator = num_users * num_movies\n",
    "\n",
    "# Divide the numerator by the denominator\n",
    "sparsity = (1.0 - (numerator *1.0)/denominator)*100\n",
    "print(\"The ratings dataframe is \", \"%.2f\" % sparsity + \"% empty.\")"
   ]
  },
  {
   "cell_type": "markdown",
   "metadata": {},
   "source": [
    "The ratings dataframe is  98.36% empty."
   ]
  },
  {
   "cell_type": "markdown",
   "metadata": {},
   "source": [
    "## Summary metrics\n",
    "Now that we know a little more about the dataset, let's look at some general summary metrics of the `ratings` dataset and see how many ratings the movies have and how many ratings each users has provided."
   ]
  },
  {
   "cell_type": "code",
   "execution_count": null,
   "metadata": {},
   "outputs": [],
   "source": [
    "# Import the requisite packages\n",
    "from pyspark.sql.functions import col\n",
    "\n",
    "# Group data by userId, count ratings\n",
    "ratings.groupBy(\"userId\").count().show()"
   ]
  },
  {
   "cell_type": "markdown",
   "metadata": {},
   "source": [
    "    +------+-----+\n",
    "    |userId|count|\n",
    "    +------+-----+\n",
    "    |   296|   20|\n",
    "    |   467|   64|\n",
    "    |   125|  210|\n",
    "    |   451|   52|\n",
    "    |   666|   40|\n",
    "    |     7|   88|\n",
    "    |    51|   31|\n",
    "    |   124|   85|\n",
    "    |   447|   87|\n",
    "    |   591|   30|\n",
    "    |   307|   72|\n",
    "    |   475|  655|\n",
    "    |   574|  342|\n",
    "    |   613|   53|\n",
    "    |   169|  113|\n",
    "    |   205|  206|\n",
    "    |   334|   34|\n",
    "    |   544|  268|\n",
    "    |   577|  279|\n",
    "    |   581|   49|\n",
    "    +------+-----+\n",
    "    only showing top 20 rows"
   ]
  },
  {
   "cell_type": "code",
   "execution_count": null,
   "metadata": {},
   "outputs": [],
   "source": [
    "# Min num ratings for movies\n",
    "print(\"Movie with the fewest ratings: \")\n",
    "ratings.groupBy(\"movieId\").count().select(\"count\").agg({\"count\": \"min\"}).show()\n",
    "\n",
    "# Avg num ratings per movie\n",
    "print(\"Avg num ratings per movie: \")\n",
    "ratings.groupBy(\"movieId\").count().select(\"count\").agg({\"count\": \"avg\"}).show()\n",
    "\n",
    "# Min num ratings for user\n",
    "print(\"User with the fewest ratings: \")\n",
    "ratings.groupBy(\"userId\").count().select(\"count\").agg({\"count\": \"min\"}).show()\n",
    "\n",
    "# Avg num ratings per users\n",
    "print(\"Avg num ratings per user: \")\n",
    "ratings.groupBy(\"userId\").count().select(\"count\").agg({\"count\": \"avg\"}).show()"
   ]
  },
  {
   "cell_type": "markdown",
   "metadata": {},
   "source": [
    "    Movie with the fewest ratings: \n",
    "    +----------+\n",
    "    |min(count)|\n",
    "    +----------+\n",
    "    |         1|\n",
    "    +----------+\n",
    "    \n",
    "    Avg num ratings per movie: \n",
    "    +------------------+\n",
    "    |        avg(count)|\n",
    "    +------------------+\n",
    "    |11.030664019413193|\n",
    "    +------------------+\n",
    "    \n",
    "    User with the fewest ratings: \n",
    "    +----------+\n",
    "    |min(count)|\n",
    "    +----------+\n",
    "    |        20|\n",
    "    +----------+\n",
    "    \n",
    "    Avg num ratings per user: \n",
    "    +------------------+\n",
    "    |        avg(count)|\n",
    "    +------------------+\n",
    "    |149.03725782414307|\n",
    "    +------------------+"
   ]
  },
  {
   "cell_type": "markdown",
   "metadata": {},
   "source": [
    "## Format the schema\n",
    "Spark's implementation of ALS requires that `movieId`s and `userId`s be provided as integer datatypes. Many datasets need to be prepared accordingly in order for them to function properly with Spark. A common issue is that Spark thinks numbers are strings, and vice versa."
   ]
  },
  {
   "cell_type": "code",
   "execution_count": null,
   "metadata": {},
   "outputs": [],
   "source": [
    "# Use .printSchema() to see the datatypes of the ratings dataset\n",
    "ratings.printSchema()"
   ]
  },
  {
   "cell_type": "markdown",
   "metadata": {},
   "source": [
    "   root  \n",
    "     &nbsp;&nbsp;&nbsp;&nbsp;|-- userId: string (nullable = true)  \n",
    "     &nbsp;&nbsp;&nbsp;&nbsp;|-- movieId: string (nullable = true)  \n",
    "     &nbsp;&nbsp;&nbsp;&nbsp;|-- rating: string (nullable = true)  \n",
    "     &nbsp;&nbsp;&nbsp;&nbsp;|-- timestamp: string (nullable = true)  "
   ]
  },
  {
   "cell_type": "code",
   "execution_count": null,
   "metadata": {},
   "outputs": [],
   "source": [
    "# Tell Spark to convert the columns to the proper data types\n",
    "ratings = ratings.select(ratings.userId.cast(\"integer\"), ratings.movieId.cast(\"integer\"), ratings.rating.cast(\"double\"))\n",
    "\n",
    "# Call .printSchema() again to confirm the columns are now in the correct format\n",
    "ratings.printSchema()"
   ]
  },
  {
   "cell_type": "markdown",
   "metadata": {},
   "source": [
    " root  \n",
    "     &nbsp;&nbsp;&nbsp;&nbsp;|-- userId: integer (nullable = true)  \n",
    "     &nbsp;&nbsp;&nbsp;&nbsp;|-- movieId: integer (nullable = true)  \n",
    "     &nbsp;&nbsp;&nbsp;&nbsp;|-- rating: double (nullable = true)"
   ]
  },
  {
   "cell_type": "markdown",
   "metadata": {},
   "source": [
    "## Create test/train splits and build an ALS model\n",
    "ALS parameters and hyperparameters\n",
    "- userCol\n",
    "- itemCol\n",
    "- ratingCol\n",
    "- rank: number of latent features\n",
    "- maxIter: number of iterations\n",
    "- regParam: Lambda\n",
    "- alpha: Only used with implicit ratings\n",
    "- nonnegative=True: Ensures positive numbers\n",
    "- coldStartStrateg=\"drop\": Addresses issues with test/train split\n",
    "- implicitPrefs=True: True/False depending on ratings type"
   ]
  },
  {
   "cell_type": "code",
   "execution_count": null,
   "metadata": {},
   "outputs": [],
   "source": [
    "# Import the required functions\n",
    "from pyspark.ml.evaluation import RegressionEvaluator\n",
    "from pyspark.ml.recommendation import ALS\n",
    "from pyspark.ml.tuning import ParamGridBuilder, CrossValidator\n",
    "\n",
    "# Create test and train set\n",
    "(train, test) = ratings.randomSplit([0.80, 0.20], seed = 1234)\n",
    "\n",
    "# Create ALS model\n",
    "als = ALS(userCol=\"userId\", itemCol=\"movieId\", ratingCol=\"rating\", coldStartStrategy=\"drop\", nonnegative = True, implicitPrefs = False)\n",
    "\n",
    "# Confirm that a model called \"als\" was created\n",
    "type(als)"
   ]
  },
  {
   "cell_type": "markdown",
   "metadata": {},
   "source": [
    "pyspark.ml.recommendation.ALS"
   ]
  },
  {
   "cell_type": "markdown",
   "metadata": {},
   "source": [
    "## Tune the ALS model"
   ]
  },
  {
   "cell_type": "code",
   "execution_count": null,
   "metadata": {},
   "outputs": [],
   "source": [
    "# Import the requisite items\n",
    "from pyspark.ml.evaluation import RegressionEvaluator\n",
    "from pyspark.ml.tuning import ParamGridBuilder, CrossValidator\n",
    "\n",
    "# Add hyperparameters and their respective values to param_grid\n",
    "param_grid = ParamGridBuilder() \\\n",
    "            .addGrid(als.rank, [10, 50, 100, 150]) \\\n",
    "            .addGrid(als.maxIter, [5, 50, 100, 200]) \\\n",
    "            .addGrid(als.regParam, [.01, .05, .1, .15]) \\\n",
    "            .build()\n",
    "           \n",
    "# Define evaluator as RMSE and print length of evaluator\n",
    "evaluator = RegressionEvaluator(metricName=\"rmse\", labelCol=\"rating\", predictionCol=\"prediction\") \n",
    "print (\"Num models to be tested: \", len(param_grid))"
   ]
  },
  {
   "cell_type": "markdown",
   "metadata": {},
   "source": [
    " Num models to be tested:  64"
   ]
  },
  {
   "cell_type": "markdown",
   "metadata": {},
   "source": [
    "## Build the cross validation pipeline"
   ]
  },
  {
   "cell_type": "code",
   "execution_count": null,
   "metadata": {},
   "outputs": [],
   "source": [
    "# Build cross validation using CrossValidator\n",
    "cv = CrossValidator(estimator=als, estimatorParamMaps=param_grid, evaluator=evaluator, numFolds=5)\n",
    "\n",
    "# Confirm cv was built\n",
    "print(cv)"
   ]
  },
  {
   "cell_type": "markdown",
   "metadata": {},
   "source": [
    "CrossValidator_40e3a38b924ccf0ac669"
   ]
  },
  {
   "cell_type": "markdown",
   "metadata": {},
   "source": [
    "## Best Model and Best Model Parameters"
   ]
  },
  {
   "cell_type": "code",
   "execution_count": null,
   "metadata": {},
   "outputs": [],
   "source": [
    "#Fit cross validator to the 'train' dataset\n",
    "model = cv.fit(train)\n",
    "\n",
    "#Extract best model from the cv model above\n",
    "best_model = model.bestModel"
   ]
  },
  {
   "cell_type": "code",
   "execution_count": null,
   "metadata": {},
   "outputs": [],
   "source": [
    "# Print best_model\n",
    "print(type(best_model))\n",
    "\n",
    "# Complete the code below to extract the ALS model parameters\n",
    "print(\"**Best Model**\")\n",
    "\n",
    "# Print \"Rank\"\n",
    "print(\"  Rank:\", best_model.getRank())\n",
    "\n",
    "# Print \"MaxIter\"\n",
    "print(\"  MaxIter:\", best_model.getMaxIter())\n",
    "\n",
    "# Print \"RegParam\"\n",
    "print(\"  RegParam:\", best_model.getRegParam())"
   ]
  },
  {
   "cell_type": "markdown",
   "metadata": {},
   "source": [
    "    <class 'pyspark.ml.recommendation.ALS'>\n",
    "    **Best Model**\n",
    "      Rank: 50\n",
    "      MaxIter: 100\n",
    "      RegParam: 0.1"
   ]
  },
  {
   "cell_type": "markdown",
   "metadata": {},
   "source": [
    "## Model Performance Evaluation"
   ]
  },
  {
   "cell_type": "markdown",
   "metadata": {},
   "source": [
    "Now that we have a model that is trained on our data and tuned through cross validation, we can see how it performs on the `test` dataframe. To do this, we'll calculate the RMSE."
   ]
  },
  {
   "cell_type": "code",
   "execution_count": null,
   "metadata": {},
   "outputs": [],
   "source": [
    "test_predictions = best_model.transform(test)\n",
    "\n",
    "# View the predictions \n",
    "test_predictions.show()\n",
    "\n",
    "# Calculate and print the RMSE of test_predictions\n",
    "RMSE = evaluator.evaluate(test_predictions)\n",
    "print(RMSE)"
   ]
  },
  {
   "cell_type": "markdown",
   "metadata": {},
   "source": [
    "    +------+-------+------+------------------+\n",
    "    |userId|movieId|rating|        prediction|\n",
    "    +------+-------+------+------------------+\n",
    "    |   380|    463|   3.0| 4.093334993256898|\n",
    "    |   460|    471|   5.0| 4.789751482535894|\n",
    "    |   440|    471|   3.0| 2.440344619907418|\n",
    "    |   306|    471|   3.0|3.3247629567900976|\n",
    "    |    19|    471|   3.0| 3.067333162723295|\n",
    "    |   299|    471|   4.5| 5.218491499885204|\n",
    "    |   537|    471|   5.0|  5.69083471617962|\n",
    "    |   241|    471|   4.0| 3.816546176254299|\n",
    "    |    23|    471|   3.5| 2.539020466532909|\n",
    "    |   195|    471|   3.0| 3.355342979133588|\n",
    "    |   487|    471|   4.0| 3.105186392315445|\n",
    "    |   242|    471|   5.0| 5.893115933597325|\n",
    "    |    30|    471|   4.0| 4.017221049024606|\n",
    "    |   516|   1088|   3.0|3.3911144131643005|\n",
    "    |   111|   1088|   3.5| 4.504826156475481|\n",
    "    |    57|   1088|   4.0| 3.024549429857915|\n",
    "    |    54|   1088|   5.0| 5.235519746597422|\n",
    "    |    19|   1088|   3.0|  3.70884171609874|\n",
    "    |   387|   1088|   4.0| 4.070842875474657|\n",
    "    |   514|   1088|   3.0| 2.313176685047038|\n",
    "    +------+-------+------+------------------+\n",
    "    only showing top 20 rows\n",
    "    \n",
    "    0.6332304339145925"
   ]
  },
  {
   "cell_type": "markdown",
   "metadata": {},
   "source": [
    "An RMSE of 0.633 means that on average the model predicts 0.633 above or below values of the original ratings matrix."
   ]
  },
  {
   "cell_type": "markdown",
   "metadata": {},
   "source": [
    "## Generate Recommendations"
   ]
  },
  {
   "cell_type": "code",
   "execution_count": null,
   "metadata": {},
   "outputs": [],
   "source": [
    "# Generate top n recommendations for all \n",
    "usersrecommendForAllUsers(n) # n is an integer"
   ]
  },
  {
   "cell_type": "markdown",
   "metadata": {},
   "source": [
    "## Clean up Recommendation output"
   ]
  },
  {
   "cell_type": "code",
   "execution_count": null,
   "metadata": {},
   "outputs": [],
   "source": [
    "ALS_recommendations.show()"
   ]
  },
  {
   "cell_type": "markdown",
   "metadata": {},
   "source": [
    "    +------+---------------------+\n",
    "    |userId|      recommendations|\n",
    "    +------+---------------------+\n",
    "    |   360|[[65037, 4.491346]...|\n",
    "    |   246|[[3414, 4.8967672]...|\n",
    "    |   346|[[4565, 4.9247236]...|\n",
    "    |   476|[[83318,4.9556283]...|\n",
    "    |   367|[[4632, 4.7018986]...|\n",
    "    |   539|[[1172, 5.2528191]...|\n",
    "    |   599|[[6413, 4.7284415]...|\n",
    "    |   220|[[80,   4.4857406]...|\n",
    "    +------+---------------------+"
   ]
  },
  {
   "cell_type": "code",
   "execution_count": null,
   "metadata": {},
   "outputs": [],
   "source": [
    "# Save the dataframe as temporary table\n",
    "ALS_recommendations.registerTempTable(\"ALS_recs_temp\")"
   ]
  },
  {
   "cell_type": "code",
   "execution_count": null,
   "metadata": {},
   "outputs": [],
   "source": [
    "# The `explode` command separates the items within the `recommendations` column\n",
    "exploded_recs = spark.sql(\"SELECT uderId,                                  \n",
    "                          explode(recommendations) AS MovieRec                           \n",
    "                          FROM ALS_recs_temp\")\n",
    "exploded_recs.show()"
   ]
  },
  {
   "cell_type": "markdown",
   "metadata": {},
   "source": [
    "    +------+---------------------------------------+\n",
    "    |userId|                               MovieRec|\n",
    "    +------+---------------------------------------+\n",
    "    |   360|{\"movieId\": 65037, \"rating\": 4.4913464}|\n",
    "    |   360|{\"movieId\": 59684, \"rating\": 4.4832921}|\n",
    "    |   360|{\"movieId\": 31435, \"rating\": 4.4822811}|\n",
    "    |   360|{\"movieId\": 593, \"rating\": 4.456215}   |\n",
    "    |   360|{\"movieId\": 67504, \"rating\": 4.4028492}|\n",
    "    |   360|{\"movieId\": 83411, \"rating\": 4.3391834}|"
   ]
  },
  {
   "cell_type": "code",
   "execution_count": null,
   "metadata": {},
   "outputs": [],
   "source": [
    "# Perform sql query to make it readable\n",
    "clean_recs = spark.sql(\"SELECT userId, \n",
    "                       movieIds_and_ratings.movieId AS movieId, \n",
    "                       movieIds_and_ratings.rating AS prediction \n",
    "                       FROM ALS_recs_temp \n",
    "                       LATERAL VIEW explode(recommendations) exploded_table AS movieIds_and_ratings\") # Save the `MovieRec` column as table named `movieIds_and_ratings`\n",
    "\n",
    "clean_recs.show()"
   ]
  },
  {
   "cell_type": "markdown",
   "metadata": {},
   "source": [
    "    +------+------------------+\n",
    "    |userId|movieId|prediction|\n",
    "    +------+------------------+\n",
    "    |   360|  65037|  4.491346|\n",
    "    |   360|  59684|  4.491346|\n",
    "    |   360|  34135|  4.491346|\n",
    "    |   360|    593|  4.453185|\n",
    "    |   360|  67504|  4.389951|\n",
    "    |   360|  83411|  4.389944|"
   ]
  },
  {
   "cell_type": "code",
   "execution_count": null,
   "metadata": {},
   "outputs": [],
   "source": [
    "# Join the movies table to get the movies' information\n",
    "clean_recs.join(movie_info, [\"movieId\"], \"left\").show()"
   ]
  },
  {
   "cell_type": "markdown",
   "metadata": {},
   "source": [
    "    +------+------------------+--------------------+\n",
    "    |userId|movieId|prediction|               title|\n",
    "    +------+------------------+--------------------+\n",
    "    |   360|  65037|  4.491346|        Ben X (2007)|\n",
    "    |   360|  59684|  4.491346| Lake of Fire (2006)|\n",
    "    |   360|  34135|  4.491346|Rory O Shea Was H...|"
   ]
  },
  {
   "cell_type": "markdown",
   "metadata": {},
   "source": [
    "The ALS output include all movies for all users, whether they've seen them or not."
   ]
  },
  {
   "cell_type": "code",
   "execution_count": null,
   "metadata": {},
   "outputs": [],
   "source": [
    "# `rating` column contains the original rating by user, if the rating is null, the user hasn't seen the movie yet\n",
    "clean_recs.join(movie_ratings, [\"userId\", \"movieId\"], \"left\")"
   ]
  },
  {
   "cell_type": "markdown",
   "metadata": {},
   "source": [
    "    +------+------------------+------+\n",
    "    |userId|movieId|prediction|rating|\n",
    "    +------+------------------+------+\n",
    "    |   173|    318|  4.947126|  null|\n",
    "    |   150|    318|  4.066513|   5.0|\n",
    "    |   369|    318|  4.514297|   5.0|"
   ]
  },
  {
   "cell_type": "code",
   "execution_count": null,
   "metadata": {},
   "outputs": [],
   "source": [
    "# By filtering the `rating` column, the output contains only the predictions for movies users haven't seen yet\n",
    "clean_recs.join(movie_ratings, [\"userId\", \"movieId\"], \"left\").filter(movie_ratings.rating.isNull()).show()"
   ]
  },
  {
   "cell_type": "markdown",
   "metadata": {},
   "source": [
    "    +------+------------------+------+\n",
    "    |userId|movieId|prediction|rating|\n",
    "    +------+------------------+------+\n",
    "    |   173|    318|  4.947126|  null|\n",
    "    |    27|    318|  4.523860|  null|\n",
    "    |   515|    318|  5.165822|  null|"
   ]
  },
  {
   "cell_type": "markdown",
   "metadata": {},
   "source": [
    "## Do Recommendations Make Sense?"
   ]
  },
  {
   "cell_type": "code",
   "execution_count": null,
   "metadata": {},
   "outputs": [],
   "source": [
    "original_ratings.show()"
   ]
  },
  {
   "cell_type": "markdown",
   "metadata": {},
   "source": [
    "\n",
    "    +------+-------+------+--------------------+--------------------+  \n",
    "    |userId|movieId|rating|               title|              genres|  \n",
    "    +------+-------+------+--------------------+--------------------+  \n",
    "    |    26|      1|     5|      ToyStory(1995)|Adventure|Animati...|\n",
    "    |    26|   2542|     5|LockStock&TwoSmok...|Comedy|Crime|Thri...|\n",
    "    +------+-------+------+--------------------+--------------------+"
   ]
  },
  {
   "cell_type": "code",
   "execution_count": null,
   "metadata": {},
   "outputs": [],
   "source": [
    "# Look at user 60's ratings\n",
    "print(\"User 60's Ratings:\")\n",
    "original_ratings.filter(col(\"userId\") == 60).sort(\"rating\", ascending=False).show()\n",
    "\n",
    "# Look at the movies recommended to user 60\n",
    "print(\"User 60s Recommendations:\")\n",
    "recommendations.filter(col(\"userId\") == 60).show()\n",
    "\n",
    "# Look at user 63's ratings\n",
    "print(\"User 63's Ratings:\")\n",
    "original_ratings.filter(col(\"userId\") == 63).sort(\"rating\", ascending=False).show()\n",
    "\n",
    "# Look at the movies recommended to user 63\n",
    "print(\"User 63's Recommendations:\")\n",
    "recommendations.filter(col(\"userId\") == 63).show()"
   ]
  },
  {
   "cell_type": "markdown",
   "metadata": {},
   "source": [
    "    User 60's Ratings:\n",
    "    +------+-------+------+--------------------+--------------------+\n",
    "    |userId|movieId|rating|               title|              genres|\n",
    "    +------+-------+------+--------------------+--------------------+\n",
    "    |    60|    858|     5|  GodfatherThe(1972)|         Crime|Drama|\n",
    "    |    60|    235|     5|        EdWood(1994)|        Comedy|Drama|\n",
    "    |    60|   1732|     5|BigLebowskiThe(1998)|        Comedy|Crime|\n",
    "    |    60|   2324|     5|LifeIsBeautiful(L...|Comedy|Drama|Roma...|\n",
    "    |    60|   3949|     5|RequiemforaDream(...|               Drama|\n",
    "    |    60|    541|     5|   BladeRunner(1982)|Action|Sci-Fi|Thr...|\n",
    "    |    60|   5995|     5|    PianistThe(2002)|           Drama|War|\n",
    "    |    60|   6350|     5|Laputa:Castleinth...|Action|Adventure|...|\n",
    "    |    60|   7361|     5|EternalSunshineof...|Drama|Romance|Sci-Fi|\n",
    "    |    60|   8638|     5|  BeforeSunset(2004)|       Drama|Romance|\n",
    "    |    60|   8981|     5|        Closer(2004)|       Drama|Romance|\n",
    "    |    60|  27803|     5|SeaInsideThe(Mara...|               Drama|\n",
    "    |    60|  30749|     5|   HotelRwanda(2004)|           Drama|War|\n",
    "    +------+-------+------+--------------------+--------------------+\n",
    "    only showing top 20 rows\n",
    "    \n",
    "    User 60s Recommendations:\n",
    "    +------+-------+----------+--------------------+--------------------+\n",
    "    |userId|movieId|prediction|               title|              genres|\n",
    "    +------+-------+----------+--------------------+--------------------+\n",
    "    |    60|  83318|  5.810963|       GoatThe(1921)|              Comedy|\n",
    "    |    60|  83411|  5.810963|          Cops(1922)|              Comedy|\n",
    "    |    60|  73344|  5.315315|ProphetA(UnProphÃ...|         Crime|Drama|\n",
    "    |    60|   3309| 5.2298656|    Dog'sLifeA(1918)|              Comedy|\n",
    "    |    60|   8609| 5.2298656|OurHospitality(1923)|              Comedy|\n",
    "    |    60|  72647| 5.2298656|   Zorn'sLemma(1970)|               Drama|\n",
    "    |    60|   5059| 5.2298656|LittleDieterNeeds...|         Documentary|\n",
    "    |    60|   8797| 5.2298656|      Salesman(1969)|         Documentary|\n",
    "    |    60|  25764| 5.2298656|  CameramanThe(1928)|Comedy|Drama|Romance|\n",
    "    |    60|   7074| 5.2298656|  NavigatorThe(1924)|              Comedy|\n",
    "    |    60|  31547| 5.2298656|LessonsofDarkness...|     Documentary|War|\n",
    "    |    60|   4405| 5.2298656|LastLaughThe(Letz...|               Drama|\n",
    "    |    60|  26400| 5.2298656| GatesofHeaven(1978)|         Documentary|\n",
    "    |    60|  80599| 5.2298656|BusterKeaton:AHar...|         Documentary|\n",
    "    |    60|  92494| 5.1418443|DylanMoran:Monste...|  Comedy|Documentary|\n",
    "    |    60|   3216| 5.1418443|VampyrosLesbos(Va...|Fantasy|Horror|Th...|\n",
    "    |    60|   6918| 5.1184077|UnvanquishedThe(A...|               Drama|\n",
    "    |    60|  40412| 5.0673676|DeadMan'sShoes(2004)|      Crime|Thriller|\n",
    "    |    60|  52767|  5.043912|          21Up(1977)|         Documentary|\n",
    "    |    60|   8955| 5.0317564|      Undertow(2004)|Crime|Drama|Thriller|\n",
    "    +------+-------+----------+--------------------+--------------------+\n",
    "    \n",
    "    User 63's Ratings:\n",
    "    +------+-------+------+--------------------+--------------------+\n",
    "    |userId|movieId|rating|               title|              genres|\n",
    "    +------+-------+------+--------------------+--------------------+\n",
    "    |    63|      1|     5|      ToyStory(1995)|Adventure|Animati...|\n",
    "    |    63|     16|     5|        Casino(1995)|         Crime|Drama|\n",
    "    |    63|    260|     5|StarWars:EpisodeI...|Action|Adventure|...|\n",
    "    |    63|    318|     5|ShawshankRedempti...|         Crime|Drama|\n",
    "    |    63|    592|     5|        Batman(1989)|Action|Crime|Thri...|\n",
    "    |    63|   1193|     5|OneFlewOvertheCuc...|               Drama|\n",
    "    |    63|   1198|     5|RaidersoftheLostA...|    Action|Adventure|\n",
    "    |    63|   1214|     5|         Alien(1979)|       Horror|Sci-Fi|\n",
    "    |    63|   1221|     5|Godfather:PartIIT...|         Crime|Drama|\n",
    "    |    63|   1259|     5|     StandbyMe(1986)|     Adventure|Drama|\n",
    "    |    63|   1356|     5|StarTrek:FirstCon...|Action|Adventure|...|\n",
    "    |    63|   1639|     5|    ChasingAmy(1997)|Comedy|Drama|Romance|\n",
    "    |    63|   2797|     5|           Big(1988)|Comedy|Drama|Fant...|\n",
    "    |    63|   2858|     5|AmericanBeauty(1999)|       Drama|Romance|\n",
    "    |    63|   2918|     5|FerrisBueller'sDa...|              Comedy|\n",
    "    |    63|   3114|     5|     ToyStory2(1999)|Adventure|Animati...|\n",
    "    |    63|   3176|     5|TalentedMr.Ripley...|Drama|Mystery|Thr...|\n",
    "    |    63|   3481|     5|  HighFidelity(2000)|Comedy|Drama|Romance|\n",
    "    |    63|   3578|     5|     Gladiator(2000)|Action|Adventure|...|\n",
    "    |    63|   4306|     5|         Shrek(2001)|Adventure|Animati...|\n",
    "    +------+-------+------+--------------------+--------------------+\n",
    "    only showing top 20 rows\n",
    "    \n",
    "    User 63's Recommendations:\n",
    "    +------+-------+----------+--------------------+--------------------+\n",
    "    |userId|movieId|prediction|               title|              genres|\n",
    "    +------+-------+----------+--------------------+--------------------+\n",
    "    |    63|  92210| 4.8674645|DisappearanceofHa...|Adventure|Animati...|\n",
    "    |    63| 110873| 4.8674645|CentenarianWhoCli...|Adventure|Comedy|...|\n",
    "    |    63|   9010| 4.8588977|LoveMeIfYouDare(J...|       Drama|Romance|\n",
    "    |    63| 108583|  4.836118|FawltyTowers(1975...|              Comedy|\n",
    "    |    63|   8530| 4.8189244|   DearFrankie(2004)|       Drama|Romance|\n",
    "    |    63|  83318|  4.813581|       GoatThe(1921)|              Comedy|\n",
    "    |    63|  83411|  4.813581|          Cops(1922)|              Comedy|\n",
    "    |    63|  65037| 4.7906556|          BenX(2007)|               Drama|\n",
    "    |    63|  54328|  4.688013|MyBestFriend(Monm...|              Comedy|\n",
    "    |    63|   3437|  4.678849|     CoolasIce(1991)|               Drama|\n",
    "    |    63|   2924|  4.675808|DrunkenMaster(Jui...|       Action|Comedy|\n",
    "    |    63|   1196| 4.6633716|StarWars:EpisodeV...|Action|Adventure|...|\n",
    "    |    63|  27156| 4.6382804|NeonGenesisEvange...|Action|Animation|...|\n",
    "    |    63|  26865| 4.6308517|FistofLegend(Jing...|        Action|Drama|\n",
    "    |    63|   5244| 4.6302986|ShogunAssassin(1980)|    Action|Adventure|\n",
    "    |    63|  93320| 4.6302986|TrailerParkBoys(1...|        Comedy|Crime|\n",
    "    |    63|  50641| 4.6302986|  House(Hausu)(1977)|Comedy|Fantasy|Ho...|\n",
    "    |    63|   6598|  4.624031|StepIntoLiquid(2002)|         Documentary|\n",
    "    |    63|   7502| 4.6232696|BandofBrothers(2001)|    Action|Drama|War|\n",
    "    |    63|  73344|  4.609774|ProphetA(UnProphÃ...|         Crime|Drama|\n",
    "    +------+-------+----------+--------------------+--------------------+\n",
    "    "
   ]
  },
  {
   "cell_type": "markdown",
   "metadata": {},
   "source": [
    "It looks like the model picked up on user 60's preference for drama, crime, and comedy or user 63's preference for action, adventure, and drama."
   ]
  },
  {
   "cell_type": "code",
   "execution_count": null,
   "metadata": {},
   "outputs": [],
   "source": []
  }
 ],
 "metadata": {
  "kernelspec": {
   "display_name": "Python 3",
   "language": "python",
   "name": "python3"
  },
  "language_info": {
   "codemirror_mode": {
    "name": "ipython",
    "version": 3
   },
   "file_extension": ".py",
   "mimetype": "text/x-python",
   "name": "python",
   "nbconvert_exporter": "python",
   "pygments_lexer": "ipython3",
   "version": "3.7.4"
  }
 },
 "nbformat": 4,
 "nbformat_minor": 2
}
